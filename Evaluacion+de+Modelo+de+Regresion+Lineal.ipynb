{
 "cells": [
  {
   "cell_type": "code",
   "execution_count": 2,
   "metadata": {
    "collapsed": true
   },
   "outputs": [],
   "source": [
    "import numpy as np\n",
    "import pandas as pd\n",
    "import data_helper"
   ]
  },
  {
   "cell_type": "markdown",
   "metadata": {},
   "source": [
    "## Cargando los Datos\n",
    "\n",
    "### Descripcion de los Datos\n",
    "\n",
    "**Area_Lote**: Area del lote en metros cuadrados\n",
    "\n",
    "**Precio**: Precio total de la propiedad en Quetzales"
   ]
  },
  {
   "cell_type": "code",
   "execution_count": 3,
   "metadata": {
    "collapsed": true
   },
   "outputs": [],
   "source": [
    "data_casas = pd.read_csv('data_casas.csv')"
   ]
  },
  {
   "cell_type": "code",
   "execution_count": 4,
   "metadata": {},
   "outputs": [
    {
     "data": {
      "text/html": [
       "<div>\n",
       "<style>\n",
       "    .dataframe thead tr:only-child th {\n",
       "        text-align: right;\n",
       "    }\n",
       "\n",
       "    .dataframe thead th {\n",
       "        text-align: left;\n",
       "    }\n",
       "\n",
       "    .dataframe tbody tr th {\n",
       "        vertical-align: top;\n",
       "    }\n",
       "</style>\n",
       "<table border=\"1\" class=\"dataframe\">\n",
       "  <thead>\n",
       "    <tr style=\"text-align: right;\">\n",
       "      <th></th>\n",
       "      <th>Area_Lote</th>\n",
       "      <th>Precio</th>\n",
       "    </tr>\n",
       "  </thead>\n",
       "  <tbody>\n",
       "    <tr>\n",
       "      <th>0</th>\n",
       "      <td>6240</td>\n",
       "      <td>115000</td>\n",
       "    </tr>\n",
       "    <tr>\n",
       "      <th>1</th>\n",
       "      <td>11241</td>\n",
       "      <td>149000</td>\n",
       "    </tr>\n",
       "    <tr>\n",
       "      <th>2</th>\n",
       "      <td>10690</td>\n",
       "      <td>147000</td>\n",
       "    </tr>\n",
       "    <tr>\n",
       "      <th>3</th>\n",
       "      <td>9571</td>\n",
       "      <td>129000</td>\n",
       "    </tr>\n",
       "    <tr>\n",
       "      <th>4</th>\n",
       "      <td>7742</td>\n",
       "      <td>127000</td>\n",
       "    </tr>\n",
       "  </tbody>\n",
       "</table>\n",
       "</div>"
      ],
      "text/plain": [
       "   Area_Lote  Precio\n",
       "0       6240  115000\n",
       "1      11241  149000\n",
       "2      10690  147000\n",
       "3       9571  129000\n",
       "4       7742  127000"
      ]
     },
     "execution_count": 4,
     "metadata": {},
     "output_type": "execute_result"
    }
   ],
   "source": [
    "data_casas.head()"
   ]
  },
  {
   "cell_type": "markdown",
   "metadata": {},
   "source": [
    "# Modelos de Regresion Lineal\n",
    "\n",
    "### Modelo 1  \n",
    "$y = 2.41262565 x + 107748.55024667$\n",
    "\n",
    "### Modelo 2  \n",
    "$y = 1.5322 x + 10790.55$\n",
    "\n",
    "### Modelo 3  \n",
    "$y = 3.12 x + 100750$"
   ]
  },
  {
   "cell_type": "code",
   "execution_count": 5,
   "metadata": {
    "collapsed": true
   },
   "outputs": [],
   "source": [
    "data_casas = data_helper.predict_price(data_casas)"
   ]
  },
  {
   "cell_type": "code",
   "execution_count": 6,
   "metadata": {},
   "outputs": [
    {
     "data": {
      "text/html": [
       "<div>\n",
       "<style>\n",
       "    .dataframe thead tr:only-child th {\n",
       "        text-align: right;\n",
       "    }\n",
       "\n",
       "    .dataframe thead th {\n",
       "        text-align: left;\n",
       "    }\n",
       "\n",
       "    .dataframe tbody tr th {\n",
       "        vertical-align: top;\n",
       "    }\n",
       "</style>\n",
       "<table border=\"1\" class=\"dataframe\">\n",
       "  <thead>\n",
       "    <tr style=\"text-align: right;\">\n",
       "      <th></th>\n",
       "      <th>Area_Lote</th>\n",
       "      <th>Precio</th>\n",
       "      <th>y_modelo_1</th>\n",
       "      <th>y_modelo_2</th>\n",
       "      <th>y_modelo_3</th>\n",
       "    </tr>\n",
       "  </thead>\n",
       "  <tbody>\n",
       "    <tr>\n",
       "      <th>0</th>\n",
       "      <td>6240</td>\n",
       "      <td>115000</td>\n",
       "      <td>122803.334303</td>\n",
       "      <td>20351.4780</td>\n",
       "      <td>120218.80</td>\n",
       "    </tr>\n",
       "    <tr>\n",
       "      <th>1</th>\n",
       "      <td>11241</td>\n",
       "      <td>149000</td>\n",
       "      <td>134868.875178</td>\n",
       "      <td>28014.0102</td>\n",
       "      <td>135821.92</td>\n",
       "    </tr>\n",
       "    <tr>\n",
       "      <th>2</th>\n",
       "      <td>10690</td>\n",
       "      <td>147000</td>\n",
       "      <td>133539.518445</td>\n",
       "      <td>27169.7680</td>\n",
       "      <td>134102.80</td>\n",
       "    </tr>\n",
       "    <tr>\n",
       "      <th>3</th>\n",
       "      <td>9571</td>\n",
       "      <td>129000</td>\n",
       "      <td>130839.790343</td>\n",
       "      <td>25455.2362</td>\n",
       "      <td>130611.52</td>\n",
       "    </tr>\n",
       "    <tr>\n",
       "      <th>4</th>\n",
       "      <td>7742</td>\n",
       "      <td>127000</td>\n",
       "      <td>126427.098029</td>\n",
       "      <td>22652.8424</td>\n",
       "      <td>124905.04</td>\n",
       "    </tr>\n",
       "  </tbody>\n",
       "</table>\n",
       "</div>"
      ],
      "text/plain": [
       "   Area_Lote  Precio     y_modelo_1  y_modelo_2  y_modelo_3\n",
       "0       6240  115000  122803.334303  20351.4780   120218.80\n",
       "1      11241  149000  134868.875178  28014.0102   135821.92\n",
       "2      10690  147000  133539.518445  27169.7680   134102.80\n",
       "3       9571  129000  130839.790343  25455.2362   130611.52\n",
       "4       7742  127000  126427.098029  22652.8424   124905.04"
      ]
     },
     "execution_count": 6,
     "metadata": {},
     "output_type": "execute_result"
    }
   ],
   "source": [
    "data_casas.head()"
   ]
  },
  {
   "cell_type": "markdown",
   "metadata": {},
   "source": [
    "# Evaluando los modelos\n",
    "\n",
    "En esta celda debes implementar una funcion para calcular el MSE\n",
    "\n",
    "$\\operatorname {MSE} ={\\frac {1}{n}}\\sum _{i=1}^{n}(Y_{i}-{\\hat {Y_{i}}})^{2}$\n",
    "\n",
    "\n",
    "###### Ayuda con el codigo de python\n",
    "\n",
    "Para obtener en un vector todos los elementos de una columna:\n",
    "```\n",
    "y = data_casas['Precio'] \n",
    "```\n",
    "\n",
    "Para elevar al cuadrado con numpy:\n",
    "```\n",
    "np.square( x )\n",
    "```\n",
    "\n",
    "Para hacer la sumatoria de un vector con numpy:\n",
    "```\n",
    "np.sum( x )\n",
    "```\n",
    "\n",
    "Obtener la longitud de un vector:\n",
    "```\n",
    "len(y)\n",
    "```"
   ]
  },
  {
   "cell_type": "code",
   "execution_count": 10,
   "metadata": {},
   "outputs": [
    {
     "name": "stdout",
     "output_type": "stream",
     "text": [
      "Modelo 1: 50252751.57642537\n",
      "Modelo 2: 11071481396.421818\n",
      "Modelo 3: 54849053.77928299\n"
     ]
    }
   ],
   "source": [
    "y = data_casas['Precio']\n",
    "y_hat = data_casas['y_modelo_1']\n",
    "y_hat2=data_casas['y_modelo_2']\n",
    "y_hat3=data_casas['y_modelo_3']\n",
    "n = len(y)\n",
    "\n",
    "#### Implementa tu codigo aqui ####\n",
    "\n",
    "\n",
    "\n",
    "mse = 1/int(n)*np.sum(np.square(np.subtract(y,y_hat)))\n",
    "mse2 = 1/int(n)*np.sum(np.square(np.subtract(y,y_hat2)))\n",
    "mse3 = 1/int(n)*np.sum(np.square(np.subtract(y,y_hat3)))\n",
    "\n",
    "print(\"Modelo 1:\", mse)\n",
    "print(\"Modelo 2:\", mse2)\n",
    "print(\"Modelo 3:\", mse3)"
   ]
  },
  {
   "cell_type": "markdown",
   "metadata": {},
   "source": [
    "## Utilizando la funcion  MSE de Scikit Learn\n",
    "\n",
    "##### No es necesario ejecutar esta celda es solo una referencia para evaluar tus resultados\n",
    "\n",
    "Evalua tus resultados:"
   ]
  },
  {
   "cell_type": "code",
   "execution_count": 11,
   "metadata": {},
   "outputs": [
    {
     "name": "stdout",
     "output_type": "stream",
     "text": [
      "Mean squared error [Modelo 1]: 50252751.58\n",
      "Mean squared error [Modelo 2]: 11071481396.42\n",
      "Mean squared error [Modelo 3]: 54849053.78\n"
     ]
    }
   ],
   "source": [
    "from sklearn.metrics import mean_squared_error\n",
    "\n",
    "print(\"Mean squared error [Modelo 1]: %.2f\"\n",
    "      % mean_squared_error(data_casas['Precio'], data_casas['y_modelo_1']))\n",
    "\n",
    "print(\"Mean squared error [Modelo 2]: %.2f\"\n",
    "      % mean_squared_error(data_casas['Precio'], data_casas['y_modelo_2']))\n",
    "\n",
    "print(\"Mean squared error [Modelo 3]: %.2f\"\n",
    "      % mean_squared_error(data_casas['Precio'], data_casas['y_modelo_3']))"
   ]
  },
  {
   "cell_type": "markdown",
   "metadata": {
    "collapsed": true
   },
   "source": [
    "## Concluir cual de los tres modelos es el mas adecuado"
   ]
  },
  {
   "cell_type": "markdown",
   "metadata": {},
   "source": [
    "El modelo más adecuado es el primero, que es el que tiene el MSE más pequeño."
   ]
  }
 ],
 "metadata": {
  "kernelspec": {
   "display_name": "Python 3",
   "language": "python",
   "name": "python3"
  },
  "language_info": {
   "codemirror_mode": {
    "name": "ipython",
    "version": 3
   },
   "file_extension": ".py",
   "mimetype": "text/x-python",
   "name": "python",
   "nbconvert_exporter": "python",
   "pygments_lexer": "ipython3",
   "version": "3.6.3"
  }
 },
 "nbformat": 4,
 "nbformat_minor": 2
}
